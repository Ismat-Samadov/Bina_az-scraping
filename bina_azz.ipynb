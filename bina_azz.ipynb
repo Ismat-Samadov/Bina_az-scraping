{
 "cells": [
  {
   "cell_type": "code",
   "execution_count": 1,
   "id": "ff2bdd5d-38a9-4373-8e43-a87c4005563e",
   "metadata": {},
   "outputs": [
    {
     "name": "stdout",
     "output_type": "stream",
     "text": [
      "Setup Complete\n"
     ]
    }
   ],
   "source": [
    "from selenium import webdriver\n",
    "from bs4 import BeautifulSoup\n",
    "import scrapy as sc\n",
    "import requests\n",
    "import re \n",
    "import time\n",
    "import pandas as pd\n",
    "import numpy as np\n",
    "\n",
    "print(\"Setup Complete\")"
   ]
  },
  {
   "cell_type": "code",
   "execution_count": 2,
   "id": "1dcd07eb-f879-4376-bda7-bacd545c0be3",
   "metadata": {
    "tags": []
   },
   "outputs": [],
   "source": [
    "bina_az = pd.DataFrame()"
   ]
  },
  {
   "cell_type": "code",
   "execution_count": 3,
   "id": "a0a99d22-0340-4a51-b4ac-2341c09bea44",
   "metadata": {},
   "outputs": [
    {
     "name": "stdout",
     "output_type": "stream",
     "text": [
      "CPU times: total: 156 ms\n",
      "Wall time: 1.95 s\n"
     ]
    }
   ],
   "source": [
    "%%time\n",
    "for page_num in range(1,3):\n",
    "    url = f'https://bina.az/kiraye/menziller?page={page_num}'\n",
    "    page = requests.get(url)\n",
    "\n",
    "    html = BeautifulSoup(page.content, 'html.parser')\n",
    "\n",
    "    html_result = html.find_all('div', class_ = 'items_list')"
   ]
  },
  {
   "cell_type": "code",
   "execution_count": 337,
   "id": "34c81acd-0277-41f8-9aeb-96713c88cde1",
   "metadata": {},
   "outputs": [],
   "source": [
    "for i in range(len(html_result)):\n",
    "    house = re.sub('<[^>]+>' , ' ', str(html_result[i]))\n",
    "    price = house.strip().split()[4]\n",
    "    currency=house.strip().split()[5]\n",
    "    period=house.strip().split()[6].replace('/','')\n",
    "    region=house.strip().split()[7]\n",
    "    room=house.strip().split()[9]\n",
    "    area=house.strip().split()[11]\n",
    "    flat=house.strip().split()[13]\n",
    "    announcement_place=house.strip().split()[15].replace(',','')\n",
    "    announcement_date=house.strip().split()[16:19]\n",
    "    \n",
    "    \n",
    "    bina_az=bina_az.append({\n",
    "    'price':price,\n",
    "    'currency':currency,\n",
    "    'rent_period':period,\n",
    "    'region':region,\n",
    "    'room_count':room,\n",
    "    'area':area,\n",
    "    'flat':flat,\n",
    "    'announcement_place':announcement_place,\n",
    "    'announcement_date':announcement_date},ignore_index=True)   "
   ]
  },
  {
   "cell_type": "code",
   "execution_count": 338,
   "id": "0967f5b2-34e6-44c7-8911-38ea69563e86",
   "metadata": {},
   "outputs": [
    {
     "data": {
      "text/html": [
       "<div>\n",
       "<style scoped>\n",
       "    .dataframe tbody tr th:only-of-type {\n",
       "        vertical-align: middle;\n",
       "    }\n",
       "\n",
       "    .dataframe tbody tr th {\n",
       "        vertical-align: top;\n",
       "    }\n",
       "\n",
       "    .dataframe thead th {\n",
       "        text-align: right;\n",
       "    }\n",
       "</style>\n",
       "<table border=\"1\" class=\"dataframe\">\n",
       "  <thead>\n",
       "    <tr style=\"text-align: right;\">\n",
       "      <th></th>\n",
       "      <th>price</th>\n",
       "      <th>currency</th>\n",
       "      <th>rent_period</th>\n",
       "      <th>region</th>\n",
       "      <th>room_count</th>\n",
       "      <th>area</th>\n",
       "      <th>flat</th>\n",
       "      <th>announcement_place</th>\n",
       "      <th>announcement_date</th>\n",
       "    </tr>\n",
       "  </thead>\n",
       "  <tbody>\n",
       "    <tr>\n",
       "      <th>0</th>\n",
       "      <td>Agentlik</td>\n",
       "      <td>1</td>\n",
       "      <td>606</td>\n",
       "      <td>AZN</td>\n",
       "      <td>Suraxanı</td>\n",
       "      <td>3</td>\n",
       "      <td>146</td>\n",
       "      <td>1/6</td>\n",
       "      <td>[mərtəbə, Bakı,, 22]</td>\n",
       "    </tr>\n",
       "    <tr>\n",
       "      <th>1</th>\n",
       "      <td>500</td>\n",
       "      <td>AZN</td>\n",
       "      <td>ay</td>\n",
       "      <td>Xətai</td>\n",
       "      <td>2</td>\n",
       "      <td>65</td>\n",
       "      <td>12/20</td>\n",
       "      <td>Bakı</td>\n",
       "      <td>[14, avqust, 2022]</td>\n",
       "    </tr>\n",
       "  </tbody>\n",
       "</table>\n",
       "</div>"
      ],
      "text/plain": [
       "      price currency rent_period region room_count area   flat  \\\n",
       "0  Agentlik        1         606    AZN   Suraxanı    3    146   \n",
       "1       500      AZN          ay  Xətai          2   65  12/20   \n",
       "\n",
       "  announcement_place     announcement_date  \n",
       "0                1/6  [mərtəbə, Bakı,, 22]  \n",
       "1               Bakı    [14, avqust, 2022]  "
      ]
     },
     "execution_count": 338,
     "metadata": {},
     "output_type": "execute_result"
    }
   ],
   "source": [
    "bina_az"
   ]
  },
  {
   "cell_type": "code",
   "execution_count": null,
   "id": "6edad29c-d2fc-4f22-8224-7d252d9dcd1e",
   "metadata": {},
   "outputs": [],
   "source": []
  },
  {
   "cell_type": "code",
   "execution_count": null,
   "id": "168631ca-6db0-4393-8b4b-3f676eefe3d3",
   "metadata": {},
   "outputs": [],
   "source": []
  },
  {
   "cell_type": "code",
   "execution_count": 43,
   "id": "b4ab79b5-c768-4b84-b71d-aa33a9f9797d",
   "metadata": {
    "tags": []
   },
   "outputs": [
    {
     "data": {
      "text/plain": [
       "'https://bina.az/items/3030847'"
      ]
     },
     "execution_count": 43,
     "metadata": {},
     "output_type": "execute_result"
    }
   ],
   "source": [
    "\n",
    "url='https://bina.az/kiraye?page=2'\n",
    "request=requests.get(url).content\n",
    "soup=BeautifulSoup(request,'html.parser')\n",
    "content=soup.find_all('div',class_='items-i')\n",
    "homes='https://bina.az'+content[0].a['href']\n",
    "homes"
   ]
  },
  {
   "cell_type": "code",
   "execution_count": null,
   "id": "529586bd-1ffc-42ca-b68d-0418a5ceab63",
   "metadata": {},
   "outputs": [],
   "source": []
  },
  {
   "cell_type": "code",
   "execution_count": 48,
   "id": "660e5192-fd45-434d-ae9a-1a0474f13271",
   "metadata": {},
   "outputs": [
    {
     "name": "stdout",
     "output_type": "stream",
     "text": [
      "CPU times: total: 47.9 s\n",
      "Wall time: 18min 55s\n"
     ]
    },
    {
     "data": {
      "text/plain": [
       "10992"
      ]
     },
     "execution_count": 48,
     "metadata": {},
     "output_type": "execute_result"
    }
   ],
   "source": [
    "%%time\n",
    "\n",
    "links=[]\n",
    "for pages in range(1,459):\n",
    "    url=f'https://bina.az/kiraye?page={pages}'\n",
    "    request=requests.get(url).content\n",
    "    soup=BeautifulSoup(request,'html.parser')\n",
    "    content=soup.find_all('div',class_='items-i')\n",
    "    time.sleep(2)\n",
    "    for i in range(len(content)):\n",
    "        links.append('https://bina.az'+content[i].a['href'])\n",
    "len(links)\n",
    "    "
   ]
  },
  {
   "cell_type": "code",
   "execution_count": 49,
   "id": "9a17a308-1079-4a4b-99d6-6b99cd5d2aa2",
   "metadata": {},
   "outputs": [
    {
     "data": {
      "text/html": [
       "<div>\n",
       "<style scoped>\n",
       "    .dataframe tbody tr th:only-of-type {\n",
       "        vertical-align: middle;\n",
       "    }\n",
       "\n",
       "    .dataframe tbody tr th {\n",
       "        vertical-align: top;\n",
       "    }\n",
       "\n",
       "    .dataframe thead th {\n",
       "        text-align: right;\n",
       "    }\n",
       "</style>\n",
       "<table border=\"1\" class=\"dataframe\">\n",
       "  <thead>\n",
       "    <tr style=\"text-align: right;\">\n",
       "      <th></th>\n",
       "      <th>links</th>\n",
       "    </tr>\n",
       "  </thead>\n",
       "  <tbody>\n",
       "    <tr>\n",
       "      <th>0</th>\n",
       "      <td>https://bina.az/items/2839976</td>\n",
       "    </tr>\n",
       "    <tr>\n",
       "      <th>1</th>\n",
       "      <td>https://bina.az/items/3058931</td>\n",
       "    </tr>\n",
       "    <tr>\n",
       "      <th>2</th>\n",
       "      <td>https://bina.az/items/3058921</td>\n",
       "    </tr>\n",
       "    <tr>\n",
       "      <th>3</th>\n",
       "      <td>https://bina.az/items/3058918</td>\n",
       "    </tr>\n",
       "    <tr>\n",
       "      <th>4</th>\n",
       "      <td>https://bina.az/items/3009965</td>\n",
       "    </tr>\n",
       "    <tr>\n",
       "      <th>...</th>\n",
       "      <td>...</td>\n",
       "    </tr>\n",
       "    <tr>\n",
       "      <th>10987</th>\n",
       "      <td>https://bina.az/items/3006027</td>\n",
       "    </tr>\n",
       "    <tr>\n",
       "      <th>10988</th>\n",
       "      <td>https://bina.az/items/3006002</td>\n",
       "    </tr>\n",
       "    <tr>\n",
       "      <th>10989</th>\n",
       "      <td>https://bina.az/items/3006014</td>\n",
       "    </tr>\n",
       "    <tr>\n",
       "      <th>10990</th>\n",
       "      <td>https://bina.az/items/3006004</td>\n",
       "    </tr>\n",
       "    <tr>\n",
       "      <th>10991</th>\n",
       "      <td>https://bina.az/items/3005983</td>\n",
       "    </tr>\n",
       "  </tbody>\n",
       "</table>\n",
       "<p>10992 rows × 1 columns</p>\n",
       "</div>"
      ],
      "text/plain": [
       "                               links\n",
       "0      https://bina.az/items/2839976\n",
       "1      https://bina.az/items/3058931\n",
       "2      https://bina.az/items/3058921\n",
       "3      https://bina.az/items/3058918\n",
       "4      https://bina.az/items/3009965\n",
       "...                              ...\n",
       "10987  https://bina.az/items/3006027\n",
       "10988  https://bina.az/items/3006002\n",
       "10989  https://bina.az/items/3006014\n",
       "10990  https://bina.az/items/3006004\n",
       "10991  https://bina.az/items/3005983\n",
       "\n",
       "[10992 rows x 1 columns]"
      ]
     },
     "execution_count": 49,
     "metadata": {},
     "output_type": "execute_result"
    }
   ],
   "source": [
    "linkler=pd.DataFrame({'links':links})\n",
    "linkler"
   ]
  },
  {
   "cell_type": "code",
   "execution_count": 50,
   "id": "8ac79b52-e724-4d91-bae9-fe2747438d62",
   "metadata": {},
   "outputs": [],
   "source": [
    "linkler.to_excel('all_homes_links.xlsx', engine='xlsxwriter')"
   ]
  },
  {
   "cell_type": "code",
   "execution_count": 3,
   "id": "6cf37c69-dcf5-490e-bf8c-dddbf560b7f4",
   "metadata": {},
   "outputs": [],
   "source": [
    "links=pd.read_excel(r'C:\\Users\\Ismat\\OneDrive\\Рабочий стол\\projects\\bina az scraping\\all_homes_links.xlsx')['links'].values.tolist()"
   ]
  },
  {
   "cell_type": "code",
   "execution_count": null,
   "id": "d0cb900b-8fe4-42ef-ad6f-282fd0943ca4",
   "metadata": {},
   "outputs": [],
   "source": []
  },
  {
   "cell_type": "code",
   "execution_count": 116,
   "id": "c58ae090-7cbf-49e8-ae85-a8d633d6bfe2",
   "metadata": {},
   "outputs": [],
   "source": [
    "url='https://bina.az/items/3058853'\n",
    "request=requests.get(url).content\n",
    "soup=BeautifulSoup(request,'html.parser')\n",
    "content=soup.find_all('span',class_='price-val')\n",
    "# content"
   ]
  },
  {
   "cell_type": "code",
   "execution_count": 115,
   "id": "a630e11e-ba17-4e31-a12d-85f22220ab1a",
   "metadata": {},
   "outputs": [
    {
     "data": {
      "text/plain": [
       "2800.0"
      ]
     },
     "execution_count": 115,
     "metadata": {},
     "output_type": "execute_result"
    }
   ],
   "source": [
    "float(re.sub('<[^>]+>' , ' ', str(content)).strip().replace('[ ','').replace(' ]','').strip().split(',')[0].strip().replace(' ',''))"
   ]
  },
  {
   "cell_type": "code",
   "execution_count": null,
   "id": "cbc2fabd-2546-4810-9178-a0a85824586a",
   "metadata": {},
   "outputs": [],
   "source": [
    "# (BeautifulSoup((requests.get(url).text),'html.parser').find_all('span',class_='price-val'))"
   ]
  },
  {
   "cell_type": "code",
   "execution_count": 120,
   "id": "e94d991d-453c-4a0d-a364-25109a24ff7b",
   "metadata": {},
   "outputs": [],
   "source": [
    "price=float(re.sub('<[^>]+>' , ' ', str((BeautifulSoup((requests.get(url).text),'html.parser').find_all('span',class_='price-val')))).strip().replace('[ ','').replace(' ]','').strip().split(',')[0].strip().replace(' ',''))"
   ]
  },
  {
   "cell_type": "code",
   "execution_count": 124,
   "id": "f5760309-e51a-4d85-bfbd-ab438dbf87d9",
   "metadata": {},
   "outputs": [],
   "source": [
    "currency=str(re.sub('<[^>]+>' , ' ', str((BeautifulSoup((requests.get(url).text),'html.parser').find_all('span',class_='price-cur')))).strip().replace('[ ','').replace(' ]','').strip().split(',')[0].strip().replace(' ',''))"
   ]
  },
  {
   "cell_type": "code",
   "execution_count": 128,
   "id": "e102ac1e-3dfe-4cfd-8408-aae436bf7d14",
   "metadata": {},
   "outputs": [],
   "source": [
    "period=str(re.sub('<[^>]+>' , ' ', str((BeautifulSoup((requests.get(url).text),'html.parser').find_all('span',class_='price-per')))).strip().replace('[ ','').replace(' ]','').strip().split(',')[0].strip().replace(' ','').replace('/',''))"
   ]
  },
  {
   "cell_type": "code",
   "execution_count": 133,
   "id": "0900f450-60eb-4a37-b212-270e6d7a273b",
   "metadata": {},
   "outputs": [],
   "source": [
    "ownership=str(re.sub('<[^>]+>' , ' ', str((BeautifulSoup((requests.get(url).text),'html.parser').find_all('span',class_='ownership')))).strip().replace('[ ','').replace(' ]','').strip().split(',')[0].strip().replace(' ','').replace('/',''))"
   ]
  },
  {
   "cell_type": "code",
   "execution_count": 144,
   "id": "322a2cea-83c2-4186-aa17-1a56c77110e7",
   "metadata": {},
   "outputs": [],
   "source": [
    "number_of_ann=str(re.sub('<[^>]+>' , ' ', str((BeautifulSoup((requests.get(url).text),'html.parser').find_all('div',class_='item_info'))))).replace('[  Elanın nömrəsi: ','').replace('Baxışların sayı:','').replace('Yeniləndi:','').split()[0]"
   ]
  },
  {
   "cell_type": "code",
   "execution_count": 149,
   "id": "9f213d51-e680-45e9-9358-ef46fc9b3581",
   "metadata": {},
   "outputs": [],
   "source": [
    "num_of_views=str(re.sub('<[^>]+>' , ' ', str((BeautifulSoup((requests.get(url).text),'html.parser').find_all('div',class_='item_info'))))).replace('[  Elanın nömrəsi: ','').replace('Baxışların sayı:','').replace('Yeniləndi:','').split()[1]"
   ]
  },
  {
   "cell_type": "code",
   "execution_count": 153,
   "id": "bd7617ae-7081-4fee-98fc-02d71c5f518e",
   "metadata": {},
   "outputs": [],
   "source": [
    "changing_date=str(re.sub('<[^>]+>' , ' ', str((BeautifulSoup((requests.get(url).text),'html.parser').find_all('div',class_='item_info'))))).replace('[  Elanın nömrəsi: ','').replace('Baxışların sayı:','').replace('Yeniləndi:','').split()[2]"
   ]
  },
  {
   "cell_type": "code",
   "execution_count": 156,
   "id": "ed0ab961-42e7-45f6-b6f5-cb5d76e2e046",
   "metadata": {},
   "outputs": [],
   "source": [
    "changing_hour=str(re.sub('<[^>]+>' , ' ', str((BeautifulSoup((requests.get(url).text),'html.parser').find_all('div',class_='item_info'))))).replace('[  Elanın nömrəsi: ','').replace('Baxışların sayı:','').replace('Yeniləndi:','').split()[3]"
   ]
  },
  {
   "cell_type": "code",
   "execution_count": 192,
   "id": "1ec5111b-b6c3-4ab4-b7c7-509f0054ab0b",
   "metadata": {},
   "outputs": [],
   "source": [
    "category_of_building=' '.join(str(re.sub('<[^>]+>' , ' ', str((BeautifulSoup((requests.get(url).content),'html.parser').find_all('div',class_='param_info'))))).replace(']','').replace('[','').strip().split()[1:3])"
   ]
  },
  {
   "cell_type": "code",
   "execution_count": 197,
   "id": "5f8532f8-1cc2-45e0-91ec-eb72e630518b",
   "metadata": {},
   "outputs": [],
   "source": [
    "flat=''.join(str(re.sub('<[^>]+>' , ' ', str((BeautifulSoup((requests.get(url).content),'html.parser').find_all('div',class_='param_info'))))).replace(']','').replace('[','').strip().split()[4:7])"
   ]
  },
  {
   "cell_type": "code",
   "execution_count": 216,
   "id": "282ecd99-5d6e-4f1e-ac9e-084b4ebbbd60",
   "metadata": {},
   "outputs": [],
   "source": [
    "area_m2=float(re.sub('<[^>]+>' , ' ', str((BeautifulSoup((requests.get(url).content),'html.parser').find_all('div',class_='param_info')))).replace(']','').replace('[','').strip().split()[8])"
   ]
  },
  {
   "cell_type": "code",
   "execution_count": 219,
   "id": "a0288bf4-0a82-47bf-85c8-581fb56958f7",
   "metadata": {},
   "outputs": [],
   "source": [
    "room_count=int(re.sub('<[^>]+>' , ' ', str((BeautifulSoup((requests.get(url).content),'html.parser').find_all('div',class_='param_info')))).replace(']','').replace('[','').strip().split()[12])"
   ]
  },
  {
   "cell_type": "code",
   "execution_count": 220,
   "id": "8eb53c6c-0b91-4345-b1fa-65b19c43e3c8",
   "metadata": {},
   "outputs": [],
   "source": [
    "repaired=re.sub('<[^>]+>' , ' ', str((BeautifulSoup((requests.get(url).content),'html.parser').find_all('div',class_='param_info')))).replace(']','').replace('[','').strip().split()[14]"
   ]
  },
  {
   "cell_type": "code",
   "execution_count": 230,
   "id": "5f71064e-769f-472a-99c8-a053659556c0",
   "metadata": {},
   "outputs": [],
   "source": [
    "locations=re.sub('<[^>]+>' , ' ', str((BeautifulSoup((requests.get(url).content),'html.parser').find_all('ul',class_='locations')))).replace('[','').replace(']','').strip().replace('    ',',').split(',')"
   ]
  },
  {
   "cell_type": "code",
   "execution_count": 236,
   "id": "b473e442-5460-45c2-90fe-e008085c8a86",
   "metadata": {},
   "outputs": [],
   "source": [
    "comments=re.sub('<[^>]+>' , ' ', str((BeautifulSoup((requests.get(url).content),'html.parser').find_all('article')))).replace('[','').replace(']','').strip().replace('    ',',').split(',')"
   ]
  },
  {
   "cell_type": "code",
   "execution_count": 4,
   "id": "9de73a9c-6cd9-49a6-8993-a9c58a318e64",
   "metadata": {},
   "outputs": [
    {
     "name": "stdout",
     "output_type": "stream",
     "text": [
      "CPU times: total: 8.22 s\n",
      "Wall time: 1min 19s\n"
     ]
    },
    {
     "data": {
      "text/html": [
       "<div>\n",
       "<style scoped>\n",
       "    .dataframe tbody tr th:only-of-type {\n",
       "        vertical-align: middle;\n",
       "    }\n",
       "\n",
       "    .dataframe tbody tr th {\n",
       "        vertical-align: top;\n",
       "    }\n",
       "\n",
       "    .dataframe thead th {\n",
       "        text-align: right;\n",
       "    }\n",
       "</style>\n",
       "<table border=\"1\" class=\"dataframe\">\n",
       "  <thead>\n",
       "    <tr style=\"text-align: right;\">\n",
       "      <th></th>\n",
       "      <th>link_of_home</th>\n",
       "      <th>index_unique</th>\n",
       "      <th>price</th>\n",
       "      <th>currency</th>\n",
       "      <th>period</th>\n",
       "      <th>ownership</th>\n",
       "      <th>num_of_views</th>\n",
       "      <th>changing_date</th>\n",
       "      <th>changing_hour</th>\n",
       "      <th>category_of_building</th>\n",
       "      <th>flat</th>\n",
       "      <th>area_m2</th>\n",
       "      <th>room_count</th>\n",
       "      <th>repaired</th>\n",
       "      <th>locations</th>\n",
       "      <th>comments</th>\n",
       "    </tr>\n",
       "  </thead>\n",
       "  <tbody>\n",
       "    <tr>\n",
       "      <th>0</th>\n",
       "      <td>https://bina.az/items/2839976</td>\n",
       "      <td>0</td>\n",
       "      <td>1000.0</td>\n",
       "      <td>AZN</td>\n",
       "      <td>ay</td>\n",
       "      <td>vasitəçi(agent)</td>\n",
       "      <td>0</td>\n",
       "      <td>Dünən</td>\n",
       "      <td>08:46</td>\n",
       "      <td>Yeni tikili</td>\n",
       "      <td>8/18</td>\n",
       "      <td>150.0</td>\n",
       "      <td>3</td>\n",
       "      <td>İsmayıl</td>\n",
       "      <td>['Şah İsmayıl Xətai m.', 'Xətai r.']</td>\n",
       "      <td>['✔ Xetai\\n ✔ Kristal Plazanin Yani \\n ✔ Sahil...</td>\n",
       "    </tr>\n",
       "    <tr>\n",
       "      <th>1</th>\n",
       "      <td>https://bina.az/items/3058931</td>\n",
       "      <td>0</td>\n",
       "      <td>150.0</td>\n",
       "      <td>AZN</td>\n",
       "      <td>ay</td>\n",
       "      <td>vasitəçi(agent)</td>\n",
       "      <td>0</td>\n",
       "      <td>Dünən</td>\n",
       "      <td>00:38</td>\n",
       "      <td>Yeni tikili</td>\n",
       "      <td>7/18</td>\n",
       "      <td>64.0</td>\n",
       "      <td>2</td>\n",
       "      <td>var</td>\n",
       "      <td>['Yasamal r.', 'Yeni Yasamal q.']</td>\n",
       "      <td>['DIQQET - Otag yoldasi axtarilir \\n Evde hazi...</td>\n",
       "    </tr>\n",
       "    <tr>\n",
       "      <th>2</th>\n",
       "      <td>https://bina.az/items/3058921</td>\n",
       "      <td>0</td>\n",
       "      <td>250.0</td>\n",
       "      <td>AZN</td>\n",
       "      <td>gün</td>\n",
       "      <td>[]</td>\n",
       "      <td>0</td>\n",
       "      <td>Dünən</td>\n",
       "      <td>17:00</td>\n",
       "      <td>Ev /</td>\n",
       "      <td>Sahə60m²</td>\n",
       "      <td>0</td>\n",
       "      <td>0</td>\n",
       "      <td>Təmir</td>\n",
       "      <td>['Suraxanı r.', 'Əmircan q.']</td>\n",
       "      <td>['Evin seraiti orta temirlidi her wey var su q...</td>\n",
       "    </tr>\n",
       "    <tr>\n",
       "      <th>3</th>\n",
       "      <td>https://bina.az/items/3058918</td>\n",
       "      <td>0</td>\n",
       "      <td>600.0</td>\n",
       "      <td>AZN</td>\n",
       "      <td>ay</td>\n",
       "      <td>vasitəçi(agent)</td>\n",
       "      <td>0</td>\n",
       "      <td>Bugün</td>\n",
       "      <td>10:55</td>\n",
       "      <td>Obyekt Sahə</td>\n",
       "      <td>m²Təmirvar</td>\n",
       "      <td>0</td>\n",
       "      <td>0</td>\n",
       "      <td>0</td>\n",
       "      <td>['Suraxanı r.', 'Qaraçuxur q.']</td>\n",
       "      <td>['(Ramiz) Qaracuxur qəsəbəsi Aura şadlıq saray...</td>\n",
       "    </tr>\n",
       "    <tr>\n",
       "      <th>4</th>\n",
       "      <td>https://bina.az/items/3009965</td>\n",
       "      <td>0</td>\n",
       "      <td>1000.0</td>\n",
       "      <td>AZN</td>\n",
       "      <td>ay</td>\n",
       "      <td>vasitəçi(agent)</td>\n",
       "      <td>0</td>\n",
       "      <td>21</td>\n",
       "      <td>Oktyabr</td>\n",
       "      <td>Yeni tikili</td>\n",
       "      <td>3/7</td>\n",
       "      <td>100.0</td>\n",
       "      <td>2</td>\n",
       "      <td>var</td>\n",
       "      <td>['Ağ şəhər', ' Xətai r.', 'Ağ şəhər q.']</td>\n",
       "      <td>['Ağ Şəhərdə 2 otaqlı mənzil kirayə verilir. 1...</td>\n",
       "    </tr>\n",
       "  </tbody>\n",
       "</table>\n",
       "</div>"
      ],
      "text/plain": [
       "                    link_of_home  index_unique   price currency period  \\\n",
       "0  https://bina.az/items/2839976             0  1000.0      AZN     ay   \n",
       "1  https://bina.az/items/3058931             0   150.0      AZN     ay   \n",
       "2  https://bina.az/items/3058921             0   250.0      AZN    gün   \n",
       "3  https://bina.az/items/3058918             0   600.0      AZN     ay   \n",
       "4  https://bina.az/items/3009965             0  1000.0      AZN     ay   \n",
       "\n",
       "         ownership  num_of_views changing_date changing_hour  \\\n",
       "0  vasitəçi(agent)             0         Dünən         08:46   \n",
       "1  vasitəçi(agent)             0         Dünən         00:38   \n",
       "2               []             0         Dünən         17:00   \n",
       "3  vasitəçi(agent)             0         Bugün         10:55   \n",
       "4  vasitəçi(agent)             0            21       Oktyabr   \n",
       "\n",
       "  category_of_building        flat area_m2  room_count repaired  \\\n",
       "0          Yeni tikili        8/18   150.0           3  İsmayıl   \n",
       "1          Yeni tikili        7/18    64.0           2      var   \n",
       "2                 Ev /    Sahə60m²       0           0    Təmir   \n",
       "3          Obyekt Sahə  m²Təmirvar       0           0        0   \n",
       "4          Yeni tikili         3/7   100.0           2      var   \n",
       "\n",
       "                                  locations  \\\n",
       "0      ['Şah İsmayıl Xətai m.', 'Xətai r.']   \n",
       "1         ['Yasamal r.', 'Yeni Yasamal q.']   \n",
       "2             ['Suraxanı r.', 'Əmircan q.']   \n",
       "3           ['Suraxanı r.', 'Qaraçuxur q.']   \n",
       "4  ['Ağ şəhər', ' Xətai r.', 'Ağ şəhər q.']   \n",
       "\n",
       "                                            comments  \n",
       "0  ['✔ Xetai\\n ✔ Kristal Plazanin Yani \\n ✔ Sahil...  \n",
       "1  ['DIQQET - Otag yoldasi axtarilir \\n Evde hazi...  \n",
       "2  ['Evin seraiti orta temirlidi her wey var su q...  \n",
       "3  ['(Ramiz) Qaracuxur qəsəbəsi Aura şadlıq saray...  \n",
       "4  ['Ağ Şəhərdə 2 otaqlı mənzil kirayə verilir. 1...  "
      ]
     },
     "execution_count": 4,
     "metadata": {},
     "output_type": "execute_result"
    }
   ],
   "source": [
    "%%time\n",
    "dictionary=[]\n",
    "## let ' s test just a 5 homes link\n",
    "for i in range(5):\n",
    "    \n",
    "    time.sleep(2)\n",
    "\n",
    "    \n",
    "    try:\n",
    "       \n",
    "        link_of_home=links[i] \n",
    "    \n",
    "    except:\n",
    "        \n",
    "        link_of_home='0'\n",
    "    \n",
    "    try:\n",
    "        \n",
    "        index_unique=int(re.sub('<[^>]+>' , ' ',str((BeautifulSoup((requests.get(links[i]).text),'html.parser').find_all('div',class_='item_info'))))).replace('[  Elanın nömrəsi: ','').replace('Baxışların sayı:','').replace('Yeniləndi:','').split()[0]\n",
    "    \n",
    "    except:\n",
    "        \n",
    "        index_unique=0\n",
    "    \n",
    "    try:\n",
    "        \n",
    "        price=float(re.sub('<[^>]+>' , ' ', str((BeautifulSoup((requests.get(links[i]).text),'html.parser').find_all('span',class_='price-val')))).strip().replace('[ ','').replace(' ]','').strip().split(',')[0].strip().replace(' ',''))\n",
    "    \n",
    "    except:\n",
    "        \n",
    "        price=0.0\n",
    "    \n",
    "    try:\n",
    "        currency=str(re.sub('<[^>]+>' , ' ', str((BeautifulSoup((requests.get(links[i]).text),'html.parser').find_all('span',class_='price-cur')))).strip().replace('[ ','').replace(' ]','').strip().split(',')[0].strip().replace(' ','')) \n",
    "\n",
    "    except:\n",
    "        \n",
    "        currency='0'\n",
    "    \n",
    "    try:\n",
    "        \n",
    "        period=str(re.sub('<[^>]+>' , ' ', str((BeautifulSoup((requests.get(links[i]).text),'html.parser').find_all('span',class_='price-per')))).strip().replace('[ ','').replace(' ]','').strip().split(',')[0].strip().replace(' ','').replace('/',''))\n",
    "    \n",
    "    except:\n",
    "        \n",
    "        period='0'\n",
    "    \n",
    "    try:\n",
    "        \n",
    "        ownership=str(re.sub('<[^>]+>' , ' ', str((BeautifulSoup((requests.get(links[i]).text),'html.parser').find_all('span',class_='ownership')))).strip().replace('[ ','').replace(' ]','').strip().split(',')[0].strip().replace(' ','').replace('/',''))\n",
    "   \n",
    "    except:\n",
    "        \n",
    "        ownership='0'\n",
    "        \n",
    "    try:\n",
    "        \n",
    "        num_of_views=int(re.sub('<[^>]+>' , ' ', str((BeautifulSoup((requests.get(links[i] ).content),'html.parser').find_all('div',class_='item_info'))))).replace('[  Elanın nömrəsi: ','').replace('Baxışların sayı:','').replace('Yeniləndi:','').split()[1]\n",
    "    \n",
    "    except:    \n",
    "        \n",
    "        num_of_views=0\n",
    "        \n",
    "    try:\n",
    "        \n",
    "        changing_date=str(re.sub('<[^>]+>' , ' ', str((BeautifulSoup((requests.get(links[i]).content),'html.parser').find_all('div',class_='item_info'))))).replace('[  Elanın nömrəsi: ','').replace('Baxışların sayı:','').replace('Yeniləndi:','').split()[2]\n",
    "        \n",
    "    except:\n",
    "        \n",
    "        changing_date='0'\n",
    "        \n",
    "    try:\n",
    "        \n",
    "        changing_hour=str(re.sub('<[^>]+>' , ' ', str((BeautifulSoup((requests.get(links[i]).content),'html.parser').find_all('div',class_='item_info'))))).replace('[  Elanın nömrəsi: ','').replace('Baxışların sayı:','').replace('Yeniləndi:','').split()[3]\n",
    "        \n",
    "    except:\n",
    "        \n",
    "        changing_hour='0'\n",
    "    \n",
    "    try:\n",
    "        \n",
    "        category_of_building=str(' '.join(str(re.sub('<[^>]+>' , ' ', str((BeautifulSoup((requests.get(links[i]).content),'html.parser').find_all('div',class_='param_info'))))).replace(']','').replace('[','').strip().split()[1:3]))\n",
    "    \n",
    "    except:\n",
    "        \n",
    "        category_of_building='0'\n",
    "        \n",
    "    try:\n",
    "        \n",
    "        flat=str(''.join(str(re.sub('<[^>]+>' , ' ', str((BeautifulSoup((requests.get(links[i]).content),'html.parser').find_all('div',class_='param_info'))))).replace(']','').replace('[','').strip().split()[4:7]))\n",
    "    \n",
    "    except:\n",
    "        \n",
    "        flat='0'\n",
    "    \n",
    "    try:\n",
    "        \n",
    "        area_m2=float(re.sub('<[^>]+>' , ' ', str((BeautifulSoup((requests.get(links[i]).content),'html.parser').find_all('div',class_='param_info')))).replace(']','').replace('[','').strip().split()[8])\n",
    "    \n",
    "    except:\n",
    "        \n",
    "        area_m2='0'\n",
    "        \n",
    "    try:\n",
    "        \n",
    "        room_count=int(re.sub('<[^>]+>' , ' ', str((BeautifulSoup((requests.get(links[i]).content),'html.parser').find_all('div',class_='param_info')))).replace(']','').replace('[','').strip().split()[12])\n",
    "    \n",
    "    except:\n",
    "        \n",
    "        room_count=0\n",
    "    \n",
    "    try:\n",
    "        \n",
    "        repaired=str(re.sub('<[^>]+>' , ' ', str((BeautifulSoup((requests.get(links[i]).content),'html.parser').find_all('div',class_='param_info')))).replace(']','').replace('[','').strip().split()[14])\n",
    "    \n",
    "    except:\n",
    "        \n",
    "        repaired='0'\n",
    "        \n",
    "    try:\n",
    "        \n",
    "        locations=str(re.sub('<[^>]+>' , ' ', str((BeautifulSoup((requests.get(links[i]).content),'html.parser').find_all('ul',class_='locations')))).replace('[','').replace(']','').strip().replace('    ',',').split(','))\n",
    "        \n",
    "    except:\n",
    "        \n",
    "        locations='0'\n",
    "    \n",
    "    try:\n",
    "        \n",
    "        comments=str(re.sub('<[^>]+>' , ' ', str((BeautifulSoup((requests.get(links[i]).content),'html.parser').find_all('article')))).replace('[','').replace(']','').strip().replace('    ',',').split(','))\n",
    "        \n",
    "    except:\n",
    "        \n",
    "        comments='0'\n",
    "     \n",
    "    dictionary.append({'link_of_home':link_of_home,\n",
    "                       'index_unique':index_unique,\n",
    "                       'price':price,\n",
    "                       'currency':currency,\n",
    "                       'period':period,\n",
    "                       'ownership':ownership,\n",
    "                       'num_of_views':num_of_views,\n",
    "                       'changing_date':changing_date,\n",
    "                       'changing_hour':changing_hour,\n",
    "                       'category_of_building':category_of_building,\n",
    "                       'flat':flat,\n",
    "                       'area_m2':area_m2,\n",
    "                       'room_count':room_count,\n",
    "                       'repaired':repaired,\n",
    "                       'locations':locations,\n",
    "                       'comments':comments})\n",
    "    \n",
    "data=pd.DataFrame(dictionary)\n",
    "data      "
   ]
  },
  {
   "cell_type": "code",
   "execution_count": 16,
   "id": "02e70cb0-bcfd-40f6-8fe4-beb1529353d1",
   "metadata": {},
   "outputs": [],
   "source": [
    "# data.to_excel('bina.xlsx', engine='xlsxwriter')"
   ]
  },
  {
   "cell_type": "code",
   "execution_count": null,
   "id": "e63875bd-349b-4947-b16a-2c52c93f2803",
   "metadata": {},
   "outputs": [],
   "source": []
  }
 ],
 "metadata": {
  "kernelspec": {
   "display_name": "Python 3 (ipykernel)",
   "language": "python",
   "name": "python3"
  },
  "language_info": {
   "codemirror_mode": {
    "name": "ipython",
    "version": 3
   },
   "file_extension": ".py",
   "mimetype": "text/x-python",
   "name": "python",
   "nbconvert_exporter": "python",
   "pygments_lexer": "ipython3",
   "version": "3.9.7"
  }
 },
 "nbformat": 4,
 "nbformat_minor": 5
}
